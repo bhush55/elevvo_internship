{
 "cells": [
  {
   "cell_type": "code",
   "execution_count": null,
   "id": "a282a561-b9f1-4895-a7ae-affccf5cdaa6",
   "metadata": {},
   "outputs": [],
   "source": []
  },
  {
   "cell_type": "code",
   "execution_count": 4,
   "id": "e5dd04c5-39e2-4a0b-b280-0eb4e8b0c088",
   "metadata": {},
   "outputs": [],
   "source": [
    "import os\n",
    "import zipfile\n",
    "import pandas as pd\n",
    "import numpy as np\n",
    "import matplotlib.pyplot as plt\n",
    "from sklearn.feature_extraction.text import CountVectorizer, TfidfVectorizer\n",
    "from sklearn.decomposition import LatentDirichletAllocation, NMF\n"
   ]
  },
  {
   "cell_type": "code",
   "execution_count": 6,
   "id": "4ed8d580-b70d-489e-89e3-e267a86fd84d",
   "metadata": {},
   "outputs": [],
   "source": [
    "zip_path = \"BBC_News.zip\"   \n",
    "extract_path = \"BBC_News_extracted\"\n",
    "\n",
    "if not os.path.exists(extract_path):\n",
    "    with zipfile.ZipFile(zip_path, 'r') as zip_ref:\n",
    "        zip_ref.extractall(extract_path)\n",
    "\n",
    "base_dir = os.path.join(extract_path, \"BBC_News\", \"News Articles\")\n"
   ]
  },
  {
   "cell_type": "code",
   "execution_count": 8,
   "id": "24aee3ad-982b-4e8a-8bca-3ac01a2ad08e",
   "metadata": {},
   "outputs": [],
   "source": [
    "# Load documents\n",
    "# -----------------------\n",
    "docs = []\n",
    "categories = sorted([d for d in os.listdir(base_dir) if os.path.isdir(os.path.join(base_dir, d))])\n",
    "for cat in categories:\n",
    "    for fname in os.listdir(os.path.join(base_dir, cat)):\n",
    "        if fname.endswith(\".txt\"):\n",
    "            with open(os.path.join(base_dir, cat, fname), \"r\", encoding=\"latin-1\") as f:\n",
    "                docs.append({\"doc_id\": f\"{cat}/{fname}\", \"category\": cat, \"text\": f.read()})\n",
    "\n",
    "df = pd.DataFrame(docs)\n"
   ]
  },
  {
   "cell_type": "code",
   "execution_count": 10,
   "id": "2f9b0bba-02e4-4c3c-827b-a7b9d9d071a1",
   "metadata": {},
   "outputs": [],
   "source": [
    "#  Vectorization\n",
    "n_topics = 5\n",
    "max_features = 2000\n"
   ]
  },
  {
   "cell_type": "code",
   "execution_count": 12,
   "id": "56616cbd-6644-4098-bcf6-3082e6383604",
   "metadata": {},
   "outputs": [],
   "source": [
    "# Count vectorizer for LDA\n",
    "count_vect = CountVectorizer(\n",
    "    lowercase=True,\n",
    "    stop_words=\"english\",\n",
    "    token_pattern=r\"(?u)\\b[a-zA-Z][a-zA-Z]+\\b\",\n",
    "    max_df=0.95,\n",
    "    min_df=2,\n",
    "    max_features=max_features\n",
    ")\n",
    "X_counts = count_vect.fit_transform(df[\"text\"])\n"
   ]
  },
  {
   "cell_type": "code",
   "execution_count": 14,
   "id": "990fa4dc-a3c0-4c32-8680-d8db874d1e07",
   "metadata": {},
   "outputs": [],
   "source": [
    "# TF-IDF vectorizer for NMF\n",
    "tfidf_vect = TfidfVectorizer(\n",
    "    lowercase=True,\n",
    "    stop_words=\"english\",\n",
    "    token_pattern=r\"(?u)\\b[a-zA-Z][a-zA-Z]+\\b\",\n",
    "    max_df=0.95,\n",
    "    min_df=2,\n",
    "    max_features=max_features\n",
    ")\n",
    "X_tfidf = tfidf_vect.fit_transform(df[\"text\"])\n"
   ]
  },
  {
   "cell_type": "code",
   "execution_count": 16,
   "id": "a64ba062-7b34-4819-b3f2-97d2e4329a45",
   "metadata": {},
   "outputs": [],
   "source": [
    "# Topic Modeling\n",
    "lda = LatentDirichletAllocation(n_components=n_topics, random_state=42, max_iter=10)\n",
    "lda_W = lda.fit_transform(X_counts)\n",
    "lda_H = lda.components_\n",
    "\n",
    "nmf = NMF(n_components=n_topics, random_state=42, init=\"nndsvda\", max_iter=200)\n",
    "nmf_W = nmf.fit_transform(X_tfidf)\n",
    "nmf_H = nmf.components_\n"
   ]
  },
  {
   "cell_type": "code",
   "execution_count": 18,
   "id": "44098f97-744b-4540-98e0-8f89d503c01e",
   "metadata": {},
   "outputs": [],
   "source": [
    "#  Helper function\n",
    "def top_words_df(components, feature_names, topn=10, model_name=\"LDA\"):\n",
    "    rows = []\n",
    "    for k, comp in enumerate(components):\n",
    "        idx = np.argsort(comp)[::-1][:topn]\n",
    "        for i in idx:\n",
    "            rows.append({\"model\": model_name, \"topic\": k, \"word\": feature_names[i], \"weight\": float(comp[i])})\n",
    "    return pd.DataFrame(rows)\n"
   ]
  },
  {
   "cell_type": "code",
   "execution_count": 20,
   "id": "cfb9278d-1f3e-411a-ad0c-914590dbcc63",
   "metadata": {},
   "outputs": [],
   "source": [
    "#Extract topics\n",
    "lda_topics_df = top_words_df(lda_H, count_vect.get_feature_names_out(), model_name=\"LDA\")\n",
    "nmf_topics_df = top_words_df(nmf_H, tfidf_vect.get_feature_names_out(), model_name=\"NMF\")\n",
    "\n",
    "df[\"LDA_dominant_topic\"] = lda_W.argmax(axis=1)\n"
   ]
  },
  {
   "cell_type": "code",
   "execution_count": 26,
   "id": "e93b857c-9c15-4b59-ad94-8b6854afdaf4",
   "metadata": {},
   "outputs": [],
   "source": [
    "# Save outputs\n",
    "out_dir = \"topic_modeling_outputs\"\n",
    "os.makedirs(out_dir, exist_ok=True)\n",
    "\n",
    "lda_topics_df.to_csv(os.path.join(out_dir, \"lda_topics_top_words.csv\"), index=False)\n",
    "nmf_topics_df.to_csv(os.path.join(out_dir, \"nmf_topics_top_words.csv\"), index=False)\n",
    "df[[\"doc_id\",\"category\",\"LDA_dominant_topic\"]].to_csv(os.path.join(out_dir, \"documents_with_topics.csv\"), index=False)\n",
    "\n"
   ]
  },
  {
   "cell_type": "code",
   "execution_count": 28,
   "id": "9007c52f-7e76-42b1-bc28-e6313b3b73a4",
   "metadata": {},
   "outputs": [
    {
     "data": {
      "image/png": "[encoded data removed]",
      "text/plain": [
       "<Figure size 800x400 with 1 Axes>"
      ]
     },
     "metadata": {},
     "output_type": "display_data"
    }
   ],
   "source": [
    "#  Visualization\n",
    "topic0 = lda_topics_df[lda_topics_df[\"topic\"] == 0].sort_values(\"weight\", ascending=False)\n",
    "plt.figure(figsize=(8,4))\n",
    "plt.bar(topic0[\"word\"], topic0[\"weight\"])\n",
    "plt.xticks(rotation=45, ha=\"right\")\n",
    "plt.title(\"LDA Topic 0: Top Words\")\n",
    "plt.tight_layout()\n",
    "plt.savefig(os.path.join(out_dir, \"lda_topic_0_top_words.png\"))\n",
    "plt.show()\n"
   ]
  },
  {
   "cell_type": "code",
   "execution_count": 30,
   "id": "815a77cd-2e81-400a-a6c5-cbda0de4b46a",
   "metadata": {},
   "outputs": [
    {
     "name": "stdout",
     "output_type": "stream",
     "text": [
      "LDA perplexity (lower is better): 982.0021136911874\n",
      "NMF reconstruction error (lower is better): 44.798121419843774\n",
      "Outputs saved in: topic_modeling_outputs\n"
     ]
    }
   ],
   "source": [
    "#  Metrics\n",
    "print(\"LDA perplexity (lower is better):\", lda.perplexity(X_counts))\n",
    "print(\"NMF reconstruction error (lower is better):\", nmf.reconstruction_err_)\n",
    "print(\"Outputs saved in:\", out_dir)"
   ]
  },
  {
   "cell_type": "code",
   "execution_count": null,
   "id": "5fbce802-0e5a-43c5-a255-f0c25b36b7fd",
   "metadata": {},
   "outputs": [],
   "source": []
  }
 ],
 "metadata": {
  "kernelspec": {
   "display_name": "Python (Mediapipe)",
   "language": "python",
   "name": "mp_env"
  },
  "language_info": {
   "codemirror_mode": {
    "name": "ipython",
    "version": 3
   },
   "file_extension": ".py",
   "mimetype": "text/x-python",
   "name": "python",
   "nbconvert_exporter": "python",
   "pygments_lexer": "ipython3",
   "version": "3.10.18"
  }
 },
 "nbformat": 4,
 "nbformat_minor": 5
}
