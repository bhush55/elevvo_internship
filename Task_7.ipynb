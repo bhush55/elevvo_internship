{
 "cells": [
  {
   "cell_type": "code",
   "execution_count": null,
   "id": "c3c4e70d-b2ef-495d-ba49-7dd04e0a40d0",
   "metadata": {},
   "outputs": [],
   "source": []
  },
  {
   "cell_type": "code",
   "execution_count": null,
   "id": "462dbd7b-8070-4283-8304-b8aaa93fd5d8",
   "metadata": {},
   "outputs": [],
   "source": []
  },
  {
   "cell_type": "code",
   "execution_count": 1,
   "id": "564d2662-dadd-4fab-981d-b4d3547af463",
   "metadata": {},
   "outputs": [
    {
     "name": "stderr",
     "output_type": "stream",
     "text": [
      "C:\\Users\\Nisha\\anaconda3\\envs\\mp_env\\lib\\site-packages\\tqdm\\auto.py:21: TqdmWarning: IProgress not found. Please update jupyter and ipywidgets. See https://ipywidgets.readthedocs.io/en/stable/user_install.html\n",
      "  from .autonotebook import tqdm as notebook_tqdm\n"
     ]
    },
    {
     "name": "stdout",
     "output_type": "stream",
     "text": [
      "WARNING:tensorflow:From C:\\Users\\Nisha\\anaconda3\\envs\\mp_env\\lib\\site-packages\\tf_keras\\src\\losses.py:2976: The name tf.losses.sparse_softmax_cross_entropy is deprecated. Please use tf.compat.v1.losses.sparse_softmax_cross_entropy instead.\n",
      "\n"
     ]
    }
   ],
   "source": [
    "import os\n",
    "import re\n",
    "import numpy as np\n",
    "import pandas as pd\n",
    "from datasets import Dataset\n",
    "from transformers import (AutoTokenizer, AutoModelForSeq2SeqLM,\n",
    "                          DataCollatorForSeq2Seq, Seq2SeqTrainer,\n",
    "                          Seq2SeqTrainingArguments)\n",
    "import evaluate\n",
    "import torch\n",
    "\n",
    "# Suppress TF warnings\n",
    "os.environ[\"TF_CPP_MIN_LOG_LEVEL\"] = \"3\"\n",
    "\n",
    "import warnings\n",
    "warnings.filterwarnings('ignore')\n"
   ]
  },
  {
   "cell_type": "code",
   "execution_count": null,
   "id": "3383edd9-1be1-43de-9f4d-712d93f5a182",
   "metadata": {},
   "outputs": [],
   "source": []
  },
  {
   "cell_type": "code",
   "execution_count": 2,
   "id": "a8ca4c5c-1dbe-4653-ad47-52b4ab9f9f7a",
   "metadata": {},
   "outputs": [],
   "source": [
    "train_df = pd.read_csv(\"train.csv\")\n",
    "val_df = pd.read_csv(\"validation.csv\")\n",
    "test_df = pd.read_csv(\"test.csv\")\n",
    "\n",
    "# Drop unused columns\n",
    "for df in [train_df, val_df, test_df]:\n",
    "    df.drop(columns=['id'], inplace=True)\n",
    "\n",
    "# Drop duplicates and sample subset\n",
    "train_df.drop_duplicates(inplace=True)\n",
    "train_df = train_df.sample(n=40_000, random_state=42)\n"
   ]
  },
  {
   "cell_type": "code",
   "execution_count": 3,
   "id": "85850792-153b-4c53-bb87-e4f90e19935a",
   "metadata": {},
   "outputs": [
    {
     "data": {
      "text/html": [
       "<div>\n",
       "<style scoped>\n",
       "    .dataframe tbody tr th:only-of-type {\n",
       "        vertical-align: middle;\n",
       "    }\n",
       "\n",
       "    .dataframe tbody tr th {\n",
       "        vertical-align: top;\n",
       "    }\n",
       "\n",
       "    .dataframe thead th {\n",
       "        text-align: right;\n",
       "    }\n",
       "</style>\n",
       "<table border=\"1\" class=\"dataframe\">\n",
       "  <thead>\n",
       "    <tr style=\"text-align: right;\">\n",
       "      <th></th>\n",
       "      <th>article</th>\n",
       "      <th>highlights</th>\n",
       "    </tr>\n",
       "  </thead>\n",
       "  <tbody>\n",
       "    <tr>\n",
       "      <th>263915</th>\n",
       "      <td>By . Daily Mail Reporter . PUBLISHED: . 11:46 ...</td>\n",
       "      <td>Matthew Kay accused of posting series of taste...</td>\n",
       "    </tr>\n",
       "    <tr>\n",
       "      <th>238628</th>\n",
       "      <td>Seoul, South Korea (CNN) -- The suspected cybe...</td>\n",
       "      <td>Wednesday's suspected cyberattack hit 32,000 c...</td>\n",
       "    </tr>\n",
       "    <tr>\n",
       "      <th>66448</th>\n",
       "      <td>By . Richard Arrowsmith for MailOnline . With ...</td>\n",
       "      <td>Tottenham defeated AEL Limassol 3-0 (5-1 agg) ...</td>\n",
       "    </tr>\n",
       "    <tr>\n",
       "      <th>44883</th>\n",
       "      <td>Police arrest two men, both 21, after Barton s...</td>\n",
       "      <td>Police arrest two men, both 21, after Barton s...</td>\n",
       "    </tr>\n",
       "    <tr>\n",
       "      <th>213646</th>\n",
       "      <td>By . Chris Pleasance . PUBLISHED: . 08:07 EST,...</td>\n",
       "      <td>Cockroaches can tell when others weren't born ...</td>\n",
       "    </tr>\n",
       "    <tr>\n",
       "      <th>...</th>\n",
       "      <td>...</td>\n",
       "      <td>...</td>\n",
       "    </tr>\n",
       "    <tr>\n",
       "      <th>237289</th>\n",
       "      <td>By . Daily Mail Reporter . PUBLISHED: . 11:13 ...</td>\n",
       "      <td>A new report by the CDC revealed that 30.5 per...</td>\n",
       "    </tr>\n",
       "    <tr>\n",
       "      <th>30945</th>\n",
       "      <td>By . Ted Thornhill . For most people, most of ...</td>\n",
       "      <td>Study found Facebook can also reveal narcissis...</td>\n",
       "    </tr>\n",
       "    <tr>\n",
       "      <th>130819</th>\n",
       "      <td>By . Tim Finan . PUBLISHED: . 06:27 EST, 29 Ju...</td>\n",
       "      <td>Lifeguards call out helicopter to save Londone...</td>\n",
       "    </tr>\n",
       "    <tr>\n",
       "      <th>26196</th>\n",
       "      <td>Tripoli, Libya (CNN) -- Opposition forces in t...</td>\n",
       "      <td>U.S., French and UK leaders write op-ed piece ...</td>\n",
       "    </tr>\n",
       "    <tr>\n",
       "      <th>193667</th>\n",
       "      <td>By . Emma Thomas . A Chechen warlord who had u...</td>\n",
       "      <td>Doku Umarov, threatened to attack the Games in...</td>\n",
       "    </tr>\n",
       "  </tbody>\n",
       "</table>\n",
       "<p>40000 rows × 2 columns</p>\n",
       "</div>"
      ],
      "text/plain": [
       "                                                  article  \\\n",
       "263915  By . Daily Mail Reporter . PUBLISHED: . 11:46 ...   \n",
       "238628  Seoul, South Korea (CNN) -- The suspected cybe...   \n",
       "66448   By . Richard Arrowsmith for MailOnline . With ...   \n",
       "44883   Police arrest two men, both 21, after Barton s...   \n",
       "213646  By . Chris Pleasance . PUBLISHED: . 08:07 EST,...   \n",
       "...                                                   ...   \n",
       "237289  By . Daily Mail Reporter . PUBLISHED: . 11:13 ...   \n",
       "30945   By . Ted Thornhill . For most people, most of ...   \n",
       "130819  By . Tim Finan . PUBLISHED: . 06:27 EST, 29 Ju...   \n",
       "26196   Tripoli, Libya (CNN) -- Opposition forces in t...   \n",
       "193667  By . Emma Thomas . A Chechen warlord who had u...   \n",
       "\n",
       "                                               highlights  \n",
       "263915  Matthew Kay accused of posting series of taste...  \n",
       "238628  Wednesday's suspected cyberattack hit 32,000 c...  \n",
       "66448   Tottenham defeated AEL Limassol 3-0 (5-1 agg) ...  \n",
       "44883   Police arrest two men, both 21, after Barton s...  \n",
       "213646  Cockroaches can tell when others weren't born ...  \n",
       "...                                                   ...  \n",
       "237289  A new report by the CDC revealed that 30.5 per...  \n",
       "30945   Study found Facebook can also reveal narcissis...  \n",
       "130819  Lifeguards call out helicopter to save Londone...  \n",
       "26196   U.S., French and UK leaders write op-ed piece ...  \n",
       "193667  Doku Umarov, threatened to attack the Games in...  \n",
       "\n",
       "[40000 rows x 2 columns]"
      ]
     },
     "execution_count": 3,
     "metadata": {},
     "output_type": "execute_result"
    }
   ],
   "source": [
    "train_df"
   ]
  },
  {
   "cell_type": "code",
   "execution_count": 4,
   "id": "f864ab52-8063-46e8-8c73-b860bd5c8cbb",
   "metadata": {},
   "outputs": [
    {
     "data": {
      "text/html": [
       "<div>\n",
       "<style scoped>\n",
       "    .dataframe tbody tr th:only-of-type {\n",
       "        vertical-align: middle;\n",
       "    }\n",
       "\n",
       "    .dataframe tbody tr th {\n",
       "        vertical-align: top;\n",
       "    }\n",
       "\n",
       "    .dataframe thead th {\n",
       "        text-align: right;\n",
       "    }\n",
       "</style>\n",
       "<table border=\"1\" class=\"dataframe\">\n",
       "  <thead>\n",
       "    <tr style=\"text-align: right;\">\n",
       "      <th></th>\n",
       "      <th>article</th>\n",
       "      <th>highlights</th>\n",
       "    </tr>\n",
       "  </thead>\n",
       "  <tbody>\n",
       "    <tr>\n",
       "      <th>0</th>\n",
       "      <td>Sally Forrest, an actress-dancer who graced th...</td>\n",
       "      <td>Sally Forrest, an actress-dancer who graced th...</td>\n",
       "    </tr>\n",
       "    <tr>\n",
       "      <th>1</th>\n",
       "      <td>A middle-school teacher in China has inked hun...</td>\n",
       "      <td>Works include pictures of Presidential Palace ...</td>\n",
       "    </tr>\n",
       "    <tr>\n",
       "      <th>2</th>\n",
       "      <td>A man convicted of killing the father and sist...</td>\n",
       "      <td>Iftekhar Murtaza, 29, was convicted a year ago...</td>\n",
       "    </tr>\n",
       "    <tr>\n",
       "      <th>3</th>\n",
       "      <td>Avid rugby fan Prince Harry could barely watch...</td>\n",
       "      <td>Prince Harry in attendance for England's crunc...</td>\n",
       "    </tr>\n",
       "    <tr>\n",
       "      <th>4</th>\n",
       "      <td>A Triple M Radio producer has been inundated w...</td>\n",
       "      <td>Nick Slater's colleagues uploaded a picture to...</td>\n",
       "    </tr>\n",
       "    <tr>\n",
       "      <th>...</th>\n",
       "      <td>...</td>\n",
       "      <td>...</td>\n",
       "    </tr>\n",
       "    <tr>\n",
       "      <th>13363</th>\n",
       "      <td>All shops will be allowed to offer ‘click and ...</td>\n",
       "      <td>Shops won't have to apply for planning permiss...</td>\n",
       "    </tr>\n",
       "    <tr>\n",
       "      <th>13364</th>\n",
       "      <td>Mo Farah has had his nationality called into q...</td>\n",
       "      <td>Mo Farah broke the European half-marathon reco...</td>\n",
       "    </tr>\n",
       "    <tr>\n",
       "      <th>13365</th>\n",
       "      <td>Wolves kept their promotion hopes alive with a...</td>\n",
       "      <td>Wolves are three points off the play-off place...</td>\n",
       "    </tr>\n",
       "    <tr>\n",
       "      <th>13366</th>\n",
       "      <td>A Brown University graduate student  has died ...</td>\n",
       "      <td>Hyoun Ju Sohn, a 25-year-old doctoral student,...</td>\n",
       "    </tr>\n",
       "    <tr>\n",
       "      <th>13367</th>\n",
       "      <td>As thousands of young Australians look to buy ...</td>\n",
       "      <td>60% of estate agents believe owning a home is ...</td>\n",
       "    </tr>\n",
       "  </tbody>\n",
       "</table>\n",
       "<p>13368 rows × 2 columns</p>\n",
       "</div>"
      ],
      "text/plain": [
       "                                                 article  \\\n",
       "0      Sally Forrest, an actress-dancer who graced th...   \n",
       "1      A middle-school teacher in China has inked hun...   \n",
       "2      A man convicted of killing the father and sist...   \n",
       "3      Avid rugby fan Prince Harry could barely watch...   \n",
       "4      A Triple M Radio producer has been inundated w...   \n",
       "...                                                  ...   \n",
       "13363  All shops will be allowed to offer ‘click and ...   \n",
       "13364  Mo Farah has had his nationality called into q...   \n",
       "13365  Wolves kept their promotion hopes alive with a...   \n",
       "13366  A Brown University graduate student  has died ...   \n",
       "13367  As thousands of young Australians look to buy ...   \n",
       "\n",
       "                                              highlights  \n",
       "0      Sally Forrest, an actress-dancer who graced th...  \n",
       "1      Works include pictures of Presidential Palace ...  \n",
       "2      Iftekhar Murtaza, 29, was convicted a year ago...  \n",
       "3      Prince Harry in attendance for England's crunc...  \n",
       "4      Nick Slater's colleagues uploaded a picture to...  \n",
       "...                                                  ...  \n",
       "13363  Shops won't have to apply for planning permiss...  \n",
       "13364  Mo Farah broke the European half-marathon reco...  \n",
       "13365  Wolves are three points off the play-off place...  \n",
       "13366  Hyoun Ju Sohn, a 25-year-old doctoral student,...  \n",
       "13367  60% of estate agents believe owning a home is ...  \n",
       "\n",
       "[13368 rows x 2 columns]"
      ]
     },
     "execution_count": 4,
     "metadata": {},
     "output_type": "execute_result"
    }
   ],
   "source": [
    "val_df"
   ]
  },
  {
   "cell_type": "code",
   "execution_count": 5,
   "id": "cc90499b-0c16-40c9-8ca7-ada2f059094b",
   "metadata": {},
   "outputs": [
    {
     "data": {
      "text/html": [
       "<div>\n",
       "<style scoped>\n",
       "    .dataframe tbody tr th:only-of-type {\n",
       "        vertical-align: middle;\n",
       "    }\n",
       "\n",
       "    .dataframe tbody tr th {\n",
       "        vertical-align: top;\n",
       "    }\n",
       "\n",
       "    .dataframe thead th {\n",
       "        text-align: right;\n",
       "    }\n",
       "</style>\n",
       "<table border=\"1\" class=\"dataframe\">\n",
       "  <thead>\n",
       "    <tr style=\"text-align: right;\">\n",
       "      <th></th>\n",
       "      <th>article</th>\n",
       "      <th>highlights</th>\n",
       "    </tr>\n",
       "  </thead>\n",
       "  <tbody>\n",
       "    <tr>\n",
       "      <th>0</th>\n",
       "      <td>Ever noticed how plane seats appear to be gett...</td>\n",
       "      <td>Experts question if  packed out planes are put...</td>\n",
       "    </tr>\n",
       "    <tr>\n",
       "      <th>1</th>\n",
       "      <td>A drunk teenage boy had to be rescued by secur...</td>\n",
       "      <td>Drunk teenage boy climbed into lion enclosure ...</td>\n",
       "    </tr>\n",
       "    <tr>\n",
       "      <th>2</th>\n",
       "      <td>Dougie Freedman is on the verge of agreeing a ...</td>\n",
       "      <td>Nottingham Forest are close to extending Dougi...</td>\n",
       "    </tr>\n",
       "    <tr>\n",
       "      <th>3</th>\n",
       "      <td>Liverpool target Neto is also wanted by PSG an...</td>\n",
       "      <td>Fiorentina goalkeeper Neto has been linked wit...</td>\n",
       "    </tr>\n",
       "    <tr>\n",
       "      <th>4</th>\n",
       "      <td>Bruce Jenner will break his silence in a two-h...</td>\n",
       "      <td>Tell-all interview with the reality TV star, 6...</td>\n",
       "    </tr>\n",
       "    <tr>\n",
       "      <th>...</th>\n",
       "      <td>...</td>\n",
       "      <td>...</td>\n",
       "    </tr>\n",
       "    <tr>\n",
       "      <th>11485</th>\n",
       "      <td>Our young Earth may have collided with a body ...</td>\n",
       "      <td>Oxford scientists say a Mercury-like body stru...</td>\n",
       "    </tr>\n",
       "    <tr>\n",
       "      <th>11486</th>\n",
       "      <td>A man facing trial for helping his former love...</td>\n",
       "      <td>Man accused of helping former lover kill woman...</td>\n",
       "    </tr>\n",
       "    <tr>\n",
       "      <th>11487</th>\n",
       "      <td>A dozen or more metal implements are arranged ...</td>\n",
       "      <td>Marianne Power tried the tuning fork facial at...</td>\n",
       "    </tr>\n",
       "    <tr>\n",
       "      <th>11488</th>\n",
       "      <td>Brook Lopez dominated twin brother Robin with ...</td>\n",
       "      <td>Brooklyn Nets beat the Portland Trail Blazers ...</td>\n",
       "    </tr>\n",
       "    <tr>\n",
       "      <th>11489</th>\n",
       "      <td>A Chinese hospital is being painstakingly move...</td>\n",
       "      <td>Chinese hospital marked for demolition because...</td>\n",
       "    </tr>\n",
       "  </tbody>\n",
       "</table>\n",
       "<p>11490 rows × 2 columns</p>\n",
       "</div>"
      ],
      "text/plain": [
       "                                                 article  \\\n",
       "0      Ever noticed how plane seats appear to be gett...   \n",
       "1      A drunk teenage boy had to be rescued by secur...   \n",
       "2      Dougie Freedman is on the verge of agreeing a ...   \n",
       "3      Liverpool target Neto is also wanted by PSG an...   \n",
       "4      Bruce Jenner will break his silence in a two-h...   \n",
       "...                                                  ...   \n",
       "11485  Our young Earth may have collided with a body ...   \n",
       "11486  A man facing trial for helping his former love...   \n",
       "11487  A dozen or more metal implements are arranged ...   \n",
       "11488  Brook Lopez dominated twin brother Robin with ...   \n",
       "11489  A Chinese hospital is being painstakingly move...   \n",
       "\n",
       "                                              highlights  \n",
       "0      Experts question if  packed out planes are put...  \n",
       "1      Drunk teenage boy climbed into lion enclosure ...  \n",
       "2      Nottingham Forest are close to extending Dougi...  \n",
       "3      Fiorentina goalkeeper Neto has been linked wit...  \n",
       "4      Tell-all interview with the reality TV star, 6...  \n",
       "...                                                  ...  \n",
       "11485  Oxford scientists say a Mercury-like body stru...  \n",
       "11486  Man accused of helping former lover kill woman...  \n",
       "11487  Marianne Power tried the tuning fork facial at...  \n",
       "11488  Brooklyn Nets beat the Portland Trail Blazers ...  \n",
       "11489  Chinese hospital marked for demolition because...  \n",
       "\n",
       "[11490 rows x 2 columns]"
      ]
     },
     "execution_count": 5,
     "metadata": {},
     "output_type": "execute_result"
    }
   ],
   "source": [
    "test_df"
   ]
  },
  {
   "cell_type": "code",
   "execution_count": 6,
   "id": "177a238a-8bbc-421f-9edf-bb55433a27df",
   "metadata": {},
   "outputs": [],
   "source": [
    "## Text Cleaning"
   ]
  },
  {
   "cell_type": "code",
   "execution_count": 7,
   "id": "9525f4f1-9e67-4856-85b3-2c33d9283047",
   "metadata": {},
   "outputs": [],
   "source": [
    "def clean_text(text):\n",
    "    text = re.sub(r'\\s+', ' ', text).strip()\n",
    "    return text\n",
    "\n",
    "for df in [train_df, val_df, test_df]:\n",
    "    df['article'] = df['article'].apply(clean_text)\n",
    "    df['highlights'] = df['highlights'].apply(clean_text)\n"
   ]
  },
  {
   "cell_type": "code",
   "execution_count": 8,
   "id": "8422336b-e880-4327-a2d8-b81dd37015c1",
   "metadata": {},
   "outputs": [],
   "source": [
    "## Convert to Hugging Face Dataset"
   ]
  },
  {
   "cell_type": "code",
   "execution_count": 9,
   "id": "70500e36-20b2-41c1-aac8-938b39b3516d",
   "metadata": {},
   "outputs": [],
   "source": [
    "train_dataset = Dataset.from_pandas(train_df)\n",
    "val_dataset = Dataset.from_pandas(val_df)\n",
    "test_dataset = Dataset.from_pandas(test_df)"
   ]
  },
  {
   "cell_type": "code",
   "execution_count": 10,
   "id": "79f887bc-0135-4650-b329-f64cd9b46a87",
   "metadata": {},
   "outputs": [],
   "source": [
    "## Load Tokenizer and Model"
   ]
  },
  {
   "cell_type": "code",
   "execution_count": 11,
   "id": "be2a3c14-7595-4f99-955a-6e8f1f1289fc",
   "metadata": {},
   "outputs": [],
   "source": [
    "model_name = 't5-base'\n",
    "tokenizer = AutoTokenizer.from_pretrained(model_name, use_fast=True)\n",
    "model = AutoModelForSeq2SeqLM.from_pretrained(model_name)\n"
   ]
  },
  {
   "cell_type": "code",
   "execution_count": 12,
   "id": "bc6d81aa-e454-4d49-8e54-d76f3f423afa",
   "metadata": {},
   "outputs": [],
   "source": [
    "## Preprocessing Function"
   ]
  },
  {
   "cell_type": "code",
   "execution_count": 13,
   "id": "21b6fbca-b8e9-4289-8f55-fb673ec6feba",
   "metadata": {},
   "outputs": [
    {
     "name": "stderr",
     "output_type": "stream",
     "text": [
      "Map: 100%|███████████████████████████████████████████████████████████████| 40000/40000 [00:55<00:00, 726.91 examples/s]\n",
      "Map: 100%|███████████████████████████████████████████████████████████████| 13368/13368 [00:20<00:00, 658.53 examples/s]\n",
      "Map: 100%|███████████████████████████████████████████████████████████████| 11490/11490 [00:17<00:00, 648.51 examples/s]\n"
     ]
    }
   ],
   "source": [
    "max_input_length = 512\n",
    "max_target_length = 128\n",
    "\n",
    "def preprocess_data(batch):\n",
    "    inputs = tokenizer(batch['article'], max_length=max_input_length,\n",
    "                       truncation=True, padding='max_length')\n",
    "    labels = tokenizer(batch['highlights'], max_length=max_target_length,\n",
    "                       truncation=True, padding='max_length')\n",
    "    inputs['labels'] = labels['input_ids']\n",
    "    return inputs\n",
    "\n",
    "train_dataset = train_dataset.map(preprocess_data, batched=True)\n",
    "val_dataset = val_dataset.map(preprocess_data, batched=True)\n",
    "test_dataset = test_dataset.map(preprocess_data, batched=True)\n"
   ]
  },
  {
   "cell_type": "code",
   "execution_count": 14,
   "id": "96a48e46-2d17-4be1-a58f-96dca57abb1b",
   "metadata": {},
   "outputs": [],
   "source": [
    "data_collator = DataCollatorForSeq2Seq(tokenizer=tokenizer, model=model)\n"
   ]
  },
  {
   "cell_type": "code",
   "execution_count": 15,
   "id": "4ce704fc-030e-45ab-b3e2-4b4a8552c135",
   "metadata": {},
   "outputs": [],
   "source": [
    "## ROUGE Metric"
   ]
  },
  {
   "cell_type": "code",
   "execution_count": 16,
   "id": "456672ad-2446-4d37-8a6f-695e23e55169",
   "metadata": {},
   "outputs": [],
   "source": [
    "rouge = evaluate.load(\"rouge\")\n",
    "\n",
    "def compute_metrics(eval_pred):\n",
    "    predictions, labels = eval_pred\n",
    "    decoded_preds = tokenizer.batch_decode(predictions, skip_special_tokens=True)\n",
    "    labels = np.where(labels != -100, labels, tokenizer.pad_token_id)\n",
    "    decoded_labels = tokenizer.batch_decode(labels, skip_special_tokens=True)\n",
    "    result = rouge.compute(predictions=decoded_preds, references=decoded_labels, use_stemmer=True)\n",
    "    return {k: v.mid.fmeasure if hasattr(v, \"mid\") else v for k, v in result.items()}\n"
   ]
  },
  {
   "cell_type": "code",
   "execution_count": 17,
   "id": "7bd1a695-2f96-4703-a310-a63f7991d90c",
   "metadata": {},
   "outputs": [],
   "source": [
    "## Training Arguments"
   ]
  },
  {
   "cell_type": "code",
   "execution_count": 18,
   "id": "2a02aef5-656b-4015-9ec3-8f256a9603c2",
   "metadata": {},
   "outputs": [],
   "source": [
    "training_args = Seq2SeqTrainingArguments(\n",
    "    output_dir=\"./results\",\n",
    "    per_device_train_batch_size=8,\n",
    "    per_device_eval_batch_size=8,\n",
    "    num_train_epochs=1, # epoch should be more than 5 but my laptop is taking long so i have taken only one epoch\n",
    "    gradient_accumulation_steps=4,\n",
    "    save_steps=500,\n",
    "    save_total_limit=3,\n",
    "    predict_with_generate=True,\n",
    "    fp16=True,\n",
    "    logging_dir=\"./logs\",\n",
    "    logging_steps=50,\n",
    "    learning_rate=2e-5,\n",
    "    do_train=True,\n",
    "    do_eval=True  # must be True for older transformers\n",
    ")\n"
   ]
  },
  {
   "cell_type": "code",
   "execution_count": 19,
   "id": "464e1de4-0ad2-4185-8ecf-14fd081e6eb7",
   "metadata": {},
   "outputs": [],
   "source": [
    "trainer = Seq2SeqTrainer(\n",
    "    model=model,\n",
    "    args=training_args,\n",
    "    train_dataset=train_dataset,\n",
    "    eval_dataset=val_dataset,\n",
    "    tokenizer=tokenizer,\n",
    "    data_collator=data_collator,\n",
    "    compute_metrics=compute_metrics\n",
    ")\n"
   ]
  },
  {
   "cell_type": "code",
   "execution_count": null,
   "id": "50b967a4-f017-47ae-bcf3-f1a217c2d705",
   "metadata": {},
   "outputs": [
    {
     "data": {
      "text/html": [
       "\n",
       "    <div>\n",
       "      \n",
       "      <progress value='2' max='1250' style='width:300px; height:20px; vertical-align: middle;'></progress>\n",
       "      [   2/1250 : < :, Epoch 0.00/1]\n",
       "    </div>\n",
       "    <table border=\"1\" class=\"dataframe\">\n",
       "  <thead>\n",
       " <tr style=\"text-align: left;\">\n",
       "      <th>Step</th>\n",
       "      <th>Training Loss</th>\n",
       "    </tr>\n",
       "  </thead>\n",
       "  <tbody>\n",
       "  </tbody>\n",
       "</table><p>"
      ],
      "text/plain": [
       "<IPython.core.display.HTML object>"
      ]
     },
     "metadata": {},
     "output_type": "display_data"
    }
   ],
   "source": [
    "trainer.train()\n"
   ]
  },
  {
   "cell_type": "code",
   "execution_count": null,
   "id": "0f2cd476-6b80-4e1c-b0d2-61d6d4b0cc8c",
   "metadata": {},
   "outputs": [],
   "source": [
    "metrics = trainer.evaluate(eval_dataset=test_dataset)\n",
    "print(\"Test Metrics:\", metrics)\n"
   ]
  },
  {
   "cell_type": "code",
   "execution_count": null,
   "id": "057d4cd3-c644-4a1c-999f-146ac5943b97",
   "metadata": {},
   "outputs": [],
   "source": [
    "model.save_pretrained(\"./t5_summarizer_model\")\n",
    "tokenizer.save_pretrained(\"./t5_summarizer_model\")\n"
   ]
  },
  {
   "cell_type": "code",
   "execution_count": null,
   "id": "e38f3909-2a51-4897-8771-ebb6eb0f7eef",
   "metadata": {},
   "outputs": [],
   "source": []
  }
 ],
 "metadata": {
  "kernelspec": {
   "display_name": "Python (mp_env)",
   "language": "python",
   "name": "mp_env"
  },
  "language_info": {
   "codemirror_mode": {
    "name": "ipython",
    "version": 3
   },
   "file_extension": ".py",
   "mimetype": "text/x-python",
   "name": "python",
   "nbconvert_exporter": "python",
   "pygments_lexer": "ipython3",
   "version": "3.10.18"
  }
 },
 "nbformat": 4,
 "nbformat_minor": 5
}
